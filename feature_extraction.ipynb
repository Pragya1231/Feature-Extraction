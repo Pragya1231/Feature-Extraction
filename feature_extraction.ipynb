{
 "cells": [
  {
   "cell_type": "code",
   "execution_count": 2,
   "id": "8e033591-a075-49f1-9e5b-11ed8a2a3b78",
   "metadata": {},
   "outputs": [],
   "source": [
    "import pandas as pd"
   ]
  },
  {
   "cell_type": "code",
   "execution_count": 3,
   "id": "eba5c80a-fccf-45e6-b8c2-926f6b100aa2",
   "metadata": {},
   "outputs": [
    {
     "data": {
      "text/html": [
       "<div>\n",
       "<style scoped>\n",
       "    .dataframe tbody tr th:only-of-type {\n",
       "        vertical-align: middle;\n",
       "    }\n",
       "\n",
       "    .dataframe tbody tr th {\n",
       "        vertical-align: top;\n",
       "    }\n",
       "\n",
       "    .dataframe thead th {\n",
       "        text-align: right;\n",
       "    }\n",
       "</style>\n",
       "<table border=\"1\" class=\"dataframe\">\n",
       "  <thead>\n",
       "    <tr style=\"text-align: right;\">\n",
       "      <th></th>\n",
       "      <th>Content</th>\n",
       "      <th>Domain</th>\n",
       "    </tr>\n",
       "  </thead>\n",
       "  <tbody>\n",
       "    <tr>\n",
       "      <th>0</th>\n",
       "      <td>Tourism is travel for pleasure, and the commer...</td>\n",
       "      <td>Tourism</td>\n",
       "    </tr>\n",
       "    <tr>\n",
       "      <th>1</th>\n",
       "      <td>A household consists of one or more persons wh...</td>\n",
       "      <td>Household</td>\n",
       "    </tr>\n",
       "    <tr>\n",
       "      <th>2</th>\n",
       "      <td>Algorithms and data structures are central to ...</td>\n",
       "      <td>Computer Science</td>\n",
       "    </tr>\n",
       "    <tr>\n",
       "      <th>3</th>\n",
       "      <td>Health care, or healthcare, is the improvement...</td>\n",
       "      <td>Medical</td>\n",
       "    </tr>\n",
       "    <tr>\n",
       "      <th>4</th>\n",
       "      <td>Artificial intelligence (AI) is intelligence e...</td>\n",
       "      <td>Computer Science</td>\n",
       "    </tr>\n",
       "  </tbody>\n",
       "</table>\n",
       "</div>"
      ],
      "text/plain": [
       "                                             Content            Domain\n",
       "0  Tourism is travel for pleasure, and the commer...           Tourism\n",
       "1  A household consists of one or more persons wh...         Household\n",
       "2  Algorithms and data structures are central to ...  Computer Science\n",
       "3  Health care, or healthcare, is the improvement...           Medical\n",
       "4  Artificial intelligence (AI) is intelligence e...  Computer Science"
      ]
     },
     "execution_count": 3,
     "metadata": {},
     "output_type": "execute_result"
    }
   ],
   "source": [
    "df = pd.read_csv(\"corpus.csv\")\n",
    "df.head()"
   ]
  },
  {
   "cell_type": "code",
   "execution_count": 4,
   "id": "1f7b9662-8322-4fc8-aa2b-bb47dce0ed11",
   "metadata": {},
   "outputs": [
    {
     "data": {
      "text/plain": [
       "Domain\n",
       "Tourism             4\n",
       "Household           4\n",
       "Computer Science    4\n",
       "Medical             4\n",
       "Name: count, dtype: int64"
      ]
     },
     "execution_count": 4,
     "metadata": {},
     "output_type": "execute_result"
    }
   ],
   "source": [
    "df.Domain.value_counts()"
   ]
  },
  {
   "cell_type": "code",
   "execution_count": 5,
   "id": "c1217116-581a-4e98-bced-6714b211d42a",
   "metadata": {},
   "outputs": [],
   "source": [
    "import spacy\n",
    "nlp = spacy.load(\"en_core_web_sm\")"
   ]
  },
  {
   "cell_type": "code",
   "execution_count": 6,
   "id": "611934ed-bc1f-415f-be31-2c295178e4d9",
   "metadata": {},
   "outputs": [],
   "source": [
    "from sklearn.feature_extraction.text import CountVectorizer\n",
    "from sklearn.feature_extraction.text import TfidfVectorizer"
   ]
  },
  {
   "cell_type": "code",
   "execution_count": 7,
   "id": "3a0b6978-8517-4b4f-9659-3f0a160b9505",
   "metadata": {},
   "outputs": [],
   "source": [
    "# without preprocessing\n",
    "w = CountVectorizer()\n",
    "transformed_output_wdf = w.fit_transform(df.Content)"
   ]
  },
  {
   "cell_type": "code",
   "execution_count": 8,
   "id": "21105fab-a701-480b-82b0-270d6e70391e",
   "metadata": {
    "scrolled": true
   },
   "outputs": [
    {
     "name": "stdout",
     "output_type": "stream",
     "text": [
      "Vocabulary without preprocessing: \n",
      "\n",
      "{'tourism': 547, 'is': 302, 'travel': 552, 'for': 218, 'pleasure': 409, 'and': 46, 'the': 531, 'commercial': 115, 'activity': 25, 'of': 372, 'providing': 444, 'supporting': 516, 'such': 514, 'un': 562, 'defines': 157, 'more': 351, 'generally': 231, 'in': 282, 'terms': 524, 'which': 596, 'go': 237, 'beyond': 78, 'common': 116, 'perception': 397, 'as': 58, 'being': 77, 'limited': 320, 'to': 543, 'holiday': 263, 'only': 377, 'people': 396, 'travelling': 555, 'staying': 505, 'places': 406, 'outside': 388, 'their': 532, 'usual': 572, 'environment': 199, 'not': 367, 'than': 528, 'one': 376, 'consecutive': 130, 'year': 605, 'leisure': 317, 'less': 318, '24': 9, 'hours': 266, 'business': 92, 'other': 384, 'purposes': 448, 'can': 97, 'be': 70, 'domestic': 178, 'within': 600, 'traveller': 554, 'own': 390, 'country': 142, 'or': 381, 'international': 298, 'has': 247, 'both': 84, 'incoming': 284, 'outgoing': 387, 'implications': 279, 'on': 375, 'balance': 68, 'payments': 395, 'household': 268, 'consists': 132, 'persons': 400, 'who': 598, 'live': 322, 'same': 470, 'dwelling': 185, 'it': 303, 'may': 338, 'single': 488, 'family': 210, 'another': 50, 'type': 559, 'person': 399, 'group': 243, 'basic': 69, 'unit': 566, 'analysis': 44, 'many': 335, 'social': 494, 'microeconomic': 344, 'government': 239, 'models': 348, 'important': 280, 'economics': 189, 'inheritance': 291, 'algorithms': 36, 'data': 152, 'structures': 510, 'are': 53, 'central': 104, 'computer': 126, 'science': 471, 'theory': 534, 'computation': 124, 'concerns': 129, 'abstract': 19, 'general': 230, 'classes': 111, 'problems': 429, 'that': 529, 'solved': 496, 'using': 571, 'them': 533, 'fields': 213, 'cryptography': 147, 'security': 477, 'involve': 301, 'studying': 513, 'means': 339, 'secure': 476, 'communication': 118, 'preventing': 422, 'vulnerabilities': 589, 'graphics': 240, 'computational': 125, 'geometry': 235, 'address': 28, 'generation': 233, 'images': 276, 'programming': 440, 'language': 313, 'considers': 131, 'different': 172, 'ways': 591, 'describe': 161, 'processes': 431, 'database': 153, 'management': 334, 'repositories': 458, 'human': 272, 'interaction': 296, 'investigates': 300, 'interfaces': 297, 'through': 542, 'humans': 273, 'computers': 127, 'interact': 295, 'software': 495, 'engineering': 195, 'focuses': 216, 'design': 163, 'principles': 426, 'behind': 76, 'developing': 167, 'areas': 54, 'operating': 379, 'systems': 520, 'networks': 360, 'embedded': 193, 'investigate': 299, 'complex': 121, 'architecture': 52, 'describes': 162, 'construction': 134, 'components': 122, 'operated': 378, 'equipment': 201, 'artificial': 57, 'intelligence': 293, 'machine': 325, 'learning': 316, 'aim': 34, 'synthesize': 518, 'goal': 238, 'orientated': 382, 'problem': 428, 'solving': 497, 'decision': 155, 'making': 332, 'environmental': 200, 'adaptation': 26, 'planning': 408, 'found': 223, 'animals': 47, 'vision': 586, 'aims': 35, 'understand': 565, 'process': 430, 'image': 275, 'video': 583, 'while': 597, 'natural': 356, 'processing': 432, 'textual': 527, 'linguistic': 321, 'health': 249, 'care': 100, 'healthcare': 250, 'improvement': 281, 'via': 581, 'prevention': 423, 'diagnosis': 170, 'treatment': 556, 'amelioration': 42, 'cure': 150, 'disease': 174, 'illness': 274, 'injury': 292, 'physical': 402, 'mental': 342, 'impairments': 278, 'delivered': 159, 'by': 94, 'professionals': 436, 'allied': 39, 'medicine': 341, 'dentistry': 160, 'pharmacy': 401, 'midwifery': 345, 'nursing': 370, 'optometry': 380, 'audiology': 63, 'psychology': 446, 'occupational': 371, 'therapy': 535, 'athletic': 62, 'training': 551, 'professions': 437, 'all': 38, 'constitute': 133, 'term': 523, 'includes': 283, 'work': 602, 'done': 180, 'primary': 424, 'secondary': 473, 'tertiary': 525, 'public': 447, 'ai': 33, 'exhibited': 207, 'machines': 326, 'also': 40, 'name': 355, 'scientific': 472, 'field': 212, 'studies': 511, 'how': 271, 'create': 145, 'capable': 98, 'intelligent': 294, 'behaviour': 75, 'situated': 490, 'northern': 366, 'part': 392, 'india': 285, 'bordering': 83, 'with': 599, 'capital': 99, 'new': 362, 'delhi': 158, 'uttar': 574, 'pradesh': 417, 'most': 352, 'popular': 410, 'an': 43, 'established': 202, 'tourist': 548, 'destination': 164, 'indians': 287, 'non': 364, 'alike': 37, 'populous': 412, 'state': 504, 'contains': 136, 'historical': 262, 'monuments': 350, 'religious': 455, 'significance': 482, 'geographically': 234, 'very': 580, 'diverse': 176, 'himalayan': 260, 'foothills': 217, 'extreme': 208, 'north': 365, 'gangetic': 226, 'plain': 407, 'centre': 105, 'home': 265, 'visited': 588, 'sites': 489, 'hinduism': 261, 'holiest': 264, 'city': 110, 'varanasi': 576, 'kumbh': 311, 'prayagraj': 418, 'kathak': 307, 'eight': 192, 'forms': 222, 'indian': 286, 'classical': 112, 'dances': 151, 'originated': 383, 'from': 224, 'citation': 108, 'needed': 358, 'at': 61, 'heart': 251, 'hence': 256, 'known': 310, 'heartland': 252, 'cuisine': 148, 'like': 319, 'awadhi': 66, 'mughlai': 354, 'bhojpuri': 79, 'famous': 211, 'but': 93, 'abroad': 18, 'lives': 323, 'house': 267, 'commonly': 117, 'some': 498, 'kind': 308, 'although': 41, 'households': 269, 'have': 248, 'groups': 244, 'roommates': 467, 'rooming': 466, 'unconnected': 563, 'individuals': 288, 'typically': 561, 'use': 569, 'houses': 270, 'space': 499, 'similar': 484, 'sized': 492, 'larger': 314, 'called': 96, 'townhouses': 549, 'row': 468, 'contain': 135, 'numerous': 369, 'dwellings': 186, 'structure': 509, 'accompanied': 22, 'outbuildings': 386, 'garage': 227, 'vehicles': 579, 'shed': 481, 'gardening': 228, 'tools': 544, 'backyard': 67, 'front': 225, 'yard': 604, 'serve': 479, 'additional': 27, 'where': 595, 'inhabitants': 290, 'relax': 454, 'eat': 188, 'exercise': 206, 'physician': 403, 'medical': 340, 'practitioner': 415, 'british': 88, 'english': 197, 'doctor': 177, 'simply': 485, 'professional': 435, 'practices': 414, 'concerned': 128, 'promoting': 441, 'maintaining': 330, 'restoring': 463, 'study': 512, 'prognosis': 438, 'physicians': 404, 'focus': 215, 'practice': 413, 'certain': 106, 'categories': 102, 'types': 560, 'patients': 394, 'methods': 343, 'specialities': 502, 'they': 537, 'assume': 60, 'responsibility': 462, 'provision': 445, 'continuing': 137, 'comprehensive': 123, 'families': 209, 'communities': 119, 'properly': 443, 'requires': 460, 'detailed': 165, 'knowledge': 309, 'academic': 20, 'disciplines': 173, 'anatomy': 45, 'physiology': 405, 'underlying': 564, 'diseases': 175, 'decent': 154, 'competence': 120, 'its': 304, 'applied': 51, 'art': 56, 'craft': 144, 'profession': 434, 'availability': 65, 'clinical': 113, 'vary': 578, 'across': 23, 'world': 603, 'due': 182, 'regional': 453, 'differences': 171, 'culture': 149, 'technology': 522, 'modern': 349, 'highly': 257, 'developed': 166, 'western': 594, 'countries': 141, 'parts': 393, 'africa': 31, 'asia': 59, 'population': 411, 'rely': 456, 'heavily': 253, 'traditional': 550, 'evidence': 205, 'efficacy': 191, 'no': 363, 'required': 459, 'formal': 221, 'practitioners': 416, 'himachal': 259, 'easily': 187, 'accessible': 21, 'hill': 258, 'well': 592, 'visit': 587, 'this': 539, 'beautiful': 71, 'enjoy': 198, 'beauty': 72, 'development': 168, 'corporation': 139, 'acted': 24, 'catalyst': 101, 'trendsetter': 557, 'prime': 425, 'mover': 353, 'promotion': 442, 'foreign': 220, 'covid': 143, '19': 3, 'help': 254, 'risk': 464, 'diagnosed': 169, 'symptoms': 517, 'coronavirus': 138, '2019': 5, 'helps': 255, 'manage': 333, 'stop': 506, 'virus': 585, 'causes': 103, 'spreading': 503, 'body': 82, 'immune': 277, 'system': 519, 'response': 461, 'building': 90, 'spacecraft': 500, 'perform': 398, 'jobs': 306, 'build': 89, 'prepare': 421, 'before': 74, 'takes': 521, 'off': 373, 'engineers': 196, 'spacecrafts': 501, 'endure': 194, 'various': 577, 'threats': 541, 'after': 32, 'built': 91, 'automated': 64, 'tests': 526, 'simulate': 486, 'vacuum': 575, 'vibrations': 582, 'cold': 114, 'neural': 361, 'network': 359, 'program': 439, 'uses': 570, 'model': 347, 'brain': 85, 'make': 331, 'decisions': 156, 'anns': 48, 'simulated': 487, 'snns': 493, 'village': 584, 'story': 507, 'boasting': 81, 'charming': 107, 'rectangular': 452, 'shape': 480, 'roof': 465, 'made': 327, 'thatched': 530, 'straw': 508, 'grass': 241, 'adds': 29, 'rustic': 469, 'touch': 546, 'overall': 389, 'aesthetic': 30, 'cities': 109, 'brick': 86, 'because': 73, 'durable': 183, 'don': 179, 'need': 357, 'repaired': 457, 'often': 374, 'main': 329, 'walls': 590, 'usually': 573, 'two': 558, 'bricks': 87, 'thick': 538, 'gross': 242, 'product': 433, 'gdp': 229, 'unlike': 567, 'sectors': 475, 'priority': 427, 'sector': 474, 'forbes': 219, 'magazine': 328, 'ranked': 449, '7th': 17, '50': 15, 'rankings': 450, 'council': 140, 'calculated': 95, 'generated': 232, '13': 0, 'lakh': 312, 'crore': 146, 'us': 568, '160': 1, 'billion': 80, 'supported': 515, '32': 11, 'million': 346, '2021': 7, 'even': 204, 'though': 540, 'these': 536, 'numbers': 368, 'were': 593, 'lower': 324, 'pre': 419, 'pandemic': 391, 'figures': 214, 'economy': 190, 'witnessed': 601, 'significant': 483, 'growth': 246, 'massive': 337, 'downturn': 181, 'during': 184, '2020': 6, 'predicted': 420, 'grow': 245, 'annual': 49, 'rate': 451, '33': 12, '400': 13, '2031': 8, 'itself': 305, '5th': 16, 'largest': 315, 'global': 236, 'estimated': 203, 'market': 336, 'size': 491, 'around': 55, 'out': 385, 'total': 545, 'industry': 289, '44': 14, '2014': 4, '184': 2, '298': 10, 'travelled': 553, 'seek': 478}\n"
     ]
    }
   ],
   "source": [
    "wt = TfidfVectorizer()\n",
    "transformed_output_widf = wt.fit_transform(df.Content)\n",
    "print(\"Vocabulary without preprocessing: \\n\")\n",
    "print(wt.vocabulary_)"
   ]
  },
  {
   "cell_type": "code",
   "execution_count": 9,
   "id": "99d05717-fbf4-4e37-87ea-bebc1ff35e74",
   "metadata": {},
   "outputs": [
    {
     "name": "stdout",
     "output_type": "stream",
     "text": [
      "Tf matrix for without preprocessing our document:\n",
      "\n",
      "[[0 0 0 ... 0 0 1]\n",
      " [0 0 0 ... 0 0 0]\n",
      " [0 0 0 ... 0 0 0]\n",
      " ...\n",
      " [0 0 0 ... 0 0 0]\n",
      " [0 0 0 ... 0 0 0]\n",
      " [1 1 1 ... 2 0 0]]\n"
     ]
    }
   ],
   "source": [
    "print(\"Tf matrix for without preprocessing our document:\\n\")\n",
    "print(transformed_output_wdf.toarray())"
   ]
  },
  {
   "cell_type": "code",
   "execution_count": 10,
   "id": "9055ab85-1183-4ebe-955f-8f49013c29e3",
   "metadata": {},
   "outputs": [
    {
     "name": "stdout",
     "output_type": "stream",
     "text": [
      "Tfidf matrix without preprocessing our document: \n",
      "\n",
      "[[0.         0.         0.         ... 0.         0.         0.10092953]\n",
      " [0.         0.         0.         ... 0.         0.         0.        ]\n",
      " [0.         0.         0.         ... 0.         0.         0.        ]\n",
      " ...\n",
      " [0.         0.         0.         ... 0.         0.         0.        ]\n",
      " [0.         0.         0.         ... 0.         0.         0.        ]\n",
      " [0.06894275 0.06894275 0.06894275 ... 0.10744827 0.         0.        ]]\n"
     ]
    }
   ],
   "source": [
    "print(\"Tfidf matrix without preprocessing our document: \\n\")\n",
    "print(transformed_output_widf.toarray())"
   ]
  },
  {
   "cell_type": "code",
   "execution_count": 11,
   "id": "fdbc49a9-18b1-4e18-9b65-b64ee34ef483",
   "metadata": {},
   "outputs": [],
   "source": [
    "dataframe = pd.DataFrame(transformed_output_widf.toarray(), columns= wt.get_feature_names_out())\n",
    "dataframe_sum = dataframe.sum(axis = 0)\n",
    "terms_wpp = dataframe_sum.sort_values(ascending=False).head(5)"
   ]
  },
  {
   "cell_type": "code",
   "execution_count": 12,
   "id": "7b853a54-96ad-4569-9202-03f6883ac768",
   "metadata": {},
   "outputs": [],
   "source": [
    "# with preprocessing\n",
    "#preprocessing function\n",
    "def preprocess(text):\n",
    "    type(text)\n",
    "    doc = nlp(text)\n",
    "    output = [token.lemma_ for token in doc if not token.is_stop and not token.is_punct]\n",
    "    return \" \".join(output)\n",
    "rows,columns = df.shape\n",
    "for i in range(rows):\n",
    "    df.at[i,'Content'] = preprocess(df.Content[i])"
   ]
  },
  {
   "cell_type": "code",
   "execution_count": 13,
   "id": "6830fad7-7690-47c2-bcbf-2b45f069e5fa",
   "metadata": {},
   "outputs": [],
   "source": [
    "pdf = CountVectorizer()\n",
    "transformed_output_df = pdf.fit_transform(df.Content)"
   ]
  },
  {
   "cell_type": "code",
   "execution_count": 14,
   "id": "3bd34842-1481-4426-b0ed-8f2bcb326725",
   "metadata": {},
   "outputs": [
    {
     "name": "stdout",
     "output_type": "stream",
     "text": [
      "Vocabulary withpreprocessing: \n",
      "\n",
      "{'tourism': 428, 'travel': 433, 'pleasure': 320, 'commercial': 89, 'activity': 24, 'provide': 350, 'support': 410, 'un': 439, 'define': 127, 'generally': 187, 'term': 416, 'common': 90, 'perception': 310, 'limit': 257, 'holiday': 213, 'people': 309, 'stay': 404, 'place': 317, 'outside': 303, 'usual': 447, 'environment': 161, 'consecutive': 102, 'year': 469, 'leisure': 255, '24': 9, 'hour': 216, 'business': 70, 'purposes': 354, 'domestic': 145, 'traveller': 434, 'country': 113, 'international': 242, 'incoming': 228, 'outgoing': 302, 'implication': 224, 'balance': 55, 'payment': 308, 'household': 218, 'consist': 104, 'person': 312, 'live': 260, 'dwelling': 149, 'single': 390, 'family': 171, 'type': 437, 'group': 198, 'basic': 56, 'unit': 443, 'analysis': 37, 'social': 396, 'microeconomic': 276, 'government': 194, 'model': 279, 'important': 225, 'economic': 152, 'inheritance': 235, 'algorithm': 33, 'datum': 124, 'structure': 408, 'central': 79, 'computer': 100, 'science': 375, 'theory': 421, 'computation': 98, 'concern': 101, 'abstract': 19, 'general': 186, 'class': 85, 'problem': 338, 'solve': 398, 'field': 173, 'cryptography': 118, 'security': 380, 'involve': 244, 'study': 409, 'mean': 271, 'secure': 379, 'communication': 92, 'prevent': 332, 'vulnerability': 461, 'graphic': 195, 'computational': 99, 'geometry': 191, 'address': 28, 'generation': 189, 'image': 221, 'programming': 346, 'language': 252, 'consider': 103, 'different': 140, 'way': 463, 'describe': 131, 'process': 339, 'database': 123, 'management': 268, 'repository': 364, 'human': 219, 'interaction': 240, 'investigate': 243, 'interface': 241, 'interact': 239, 'software': 397, 'engineering': 158, 'focus': 176, 'design': 132, 'principle': 336, 'develop': 135, 'area': 44, 'operating': 297, 'system': 413, 'network': 286, 'embed': 155, 'complex': 95, 'architecture': 43, 'construction': 106, 'component': 96, 'operate': 296, 'equipment': 163, 'artificial': 46, 'intelligence': 237, 'machine': 262, 'learning': 254, 'aim': 32, 'synthesize': 412, 'goal': 193, 'orientate': 299, 'decision': 126, 'making': 266, 'environmental': 162, 'adaptation': 25, 'planning': 319, 'find': 175, 'animal': 39, 'vision': 458, 'understand': 442, 'video': 455, 'natural': 284, 'processing': 340, 'textual': 419, 'linguistic': 259, 'health': 201, 'care': 75, 'healthcare': 202, 'improvement': 226, 'prevention': 333, 'diagnosis': 138, 'treatment': 435, 'amelioration': 36, 'cure': 121, 'disease': 142, 'illness': 220, 'injury': 236, 'physical': 314, 'mental': 274, 'impairment': 223, 'deliver': 129, 'professional': 343, 'ally': 35, 'medicine': 273, 'dentistry': 130, 'pharmacy': 313, 'midwifery': 277, 'nursing': 294, 'optometry': 298, 'audiology': 50, 'psychology': 352, 'occupational': 295, 'therapy': 422, 'athletic': 49, 'training': 432, 'profession': 342, 'constitute': 105, 'include': 227, 'work': 466, 'primary': 334, 'secondary': 377, 'tertiary': 417, 'public': 353, 'ai': 31, 'exhibit': 169, 'scientific': 376, 'create': 116, 'capable': 73, 'intelligent': 238, 'behaviour': 59, 'situate': 392, 'northern': 291, 'india': 229, 'border': 64, 'capital': 74, 'new': 288, 'delhi': 128, 'uttar': 449, 'pradesh': 327, 'popular': 321, 'established': 165, 'tourist': 429, 'destination': 133, 'indians': 231, 'non': 289, 'alike': 34, 'populous': 323, 'state': 403, 'contain': 107, 'historical': 212, 'monument': 281, 'religious': 361, 'significance': 385, 'geographically': 190, 'diverse': 143, 'himalayan': 210, 'foothill': 177, 'extreme': 170, 'north': 290, 'gangetic': 182, 'plain': 318, 'centre': 80, 'home': 215, 'visited': 460, 'site': 391, 'hinduism': 211, 'holy': 214, 'city': 84, 'varanasi': 451, 'kumbh': 250, 'prayagraj': 328, 'kathak': 246, 'form': 180, 'indian': 230, 'classical': 86, 'dance': 122, 'originate': 300, 'citation': 83, 'need': 285, 'heart': 203, 'know': 248, 'heartland': 204, 'cuisine': 119, 'like': 256, 'awadhi': 53, 'mughlai': 283, 'bhojpuri': 60, 'famous': 172, 'abroad': 18, 'house': 217, 'commonly': 91, 'kind': 247, 'roommate': 372, 'rooming': 371, 'unconnected': 440, 'individual': 232, 'typically': 438, 'use': 446, 'dwell': 148, 'space': 399, 'similar': 387, 'sized': 394, 'large': 253, 'call': 72, 'townhouse': 430, 'row': 373, 'numerous': 293, 'accompany': 22, 'outbuilding': 301, 'garage': 183, 'vehicle': 453, 'shed': 384, 'gardening': 184, 'tool': 425, 'backyard': 54, 'yard': 468, 'serve': 382, 'additional': 27, 'inhabitant': 234, 'relax': 360, 'eat': 151, 'exercise': 168, 'physician': 315, 'medical': 272, 'practitioner': 325, 'british': 67, 'english': 159, 'doctor': 144, 'simply': 388, 'practice': 324, 'promote': 347, 'maintain': 265, 'restore': 368, 'prognosis': 344, 'certain': 81, 'category': 77, 'patient': 307, 'method': 275, 'speciality': 401, 'assume': 48, 'responsibility': 367, 'provision': 351, 'continue': 108, 'comprehensive': 97, 'community': 93, 'properly': 349, 'require': 365, 'detail': 134, 'knowledge': 249, 'academic': 20, 'discipline': 141, 'anatomy': 38, 'physiology': 316, 'underlie': 441, 'decent': 125, 'competence': 94, 'apply': 42, 'art': 45, 'craft': 115, 'availability': 52, 'clinical': 87, 'vary': 452, 'world': 467, 'regional': 359, 'difference': 139, 'culture': 120, 'technology': 415, 'modern': 280, 'highly': 207, 'western': 464, 'part': 306, 'africa': 30, 'asia': 47, 'population': 322, 'rely': 362, 'heavily': 205, 'traditional': 431, 'limited': 258, 'evidence': 167, 'efficacy': 154, 'formal': 181, 'practitioners': 326, 'himachal': 209, 'easily': 150, 'accessible': 21, 'hill': 208, 'visit': 459, 'beautiful': 57, 'enjoy': 160, 'beauty': 58, 'development': 136, 'corporation': 110, 'act': 23, 'catalyst': 76, 'trendsetter': 436, 'prime': 335, 'mover': 282, 'promotion': 348, 'foreign': 179, 'covid': 114, '19': 3, 'help': 206, 'risk': 369, 'diagnose': 137, 'symptom': 411, 'coronavirus': 109, '2019': 5, 'manage': 267, 'stop': 405, 'virus': 457, 'cause': 78, 'spread': 402, 'body': 63, 'immune': 222, 'response': 366, 'building': 69, 'spacecraft': 400, 'perform': 311, 'job': 245, 'build': 68, 'prepare': 331, 'take': 414, 'engineer': 157, 'endure': 156, 'threat': 424, 'automate': 51, 'test': 418, 'simulate': 389, 'vacuum': 450, 'vibration': 454, 'cold': 88, 'neural': 287, 'program': 345, 'brain': 65, 'anns': 40, 'snn': 395, 'village': 456, 'story': 406, 'boast': 62, 'charming': 82, 'rectangular': 358, 'shape': 383, 'roof': 370, 'thatched': 420, 'straw': 407, 'grass': 196, 'add': 26, 'rustic': 374, 'touch': 427, 'overall': 304, 'aesthetic': 29, 'brick': 66, 'durable': 147, 'repair': 363, 'main': 264, 'wall': 462, 'usually': 448, 'thick': 423, 'gross': 197, 'product': 341, 'gdp': 185, 'unlike': 444, 'sector': 378, 'priority': 337, 'forbes': 178, 'magazine': 263, 'rank': 355, '7th': 17, '50': 15, 'countries': 112, 'rankings': 356, 'council': 111, 'calculate': 71, 'generate': 188, '13': 0, 'lakh': 251, 'crore': 117, 'us': 445, '160': 1, 'billion': 61, '32': 11, 'million': 278, '2021': 7, 'number': 292, 'low': 261, 'pre': 329, 'pandemic': 305, 'figure': 174, 'economy': 153, 'witness': 465, 'significant': 386, 'growth': 200, 'massive': 270, 'downturn': 146, '2020': 6, 'predict': 330, 'grow': 199, 'annual': 41, 'rate': 357, '33': 12, '400': 13, '2031': 8, 'establish': 164, '5th': 16, 'global': 192, 'estimate': 166, 'market': 269, 'size': 393, 'total': 426, 'industry': 233, '44': 14, '2014': 4, '184': 2, '298': 10, 'seek': 381}\n"
     ]
    }
   ],
   "source": [
    "pt = TfidfVectorizer()\n",
    "transformed_output_idf = pt.fit_transform(df.Content)\n",
    "print(\"Vocabulary withpreprocessing: \\n\")\n",
    "print(pt.vocabulary_)"
   ]
  },
  {
   "cell_type": "code",
   "execution_count": 15,
   "id": "94a5efec-b861-4eea-87f1-49f38a8e9bdc",
   "metadata": {},
   "outputs": [
    {
     "name": "stdout",
     "output_type": "stream",
     "text": [
      "Tf matrix after preprocessing our document: \n",
      "\n",
      "[[0 0 0 ... 0 0 1]\n",
      " [0 0 0 ... 0 0 0]\n",
      " [0 0 0 ... 0 0 0]\n",
      " ...\n",
      " [0 0 0 ... 0 0 0]\n",
      " [0 0 0 ... 0 0 0]\n",
      " [1 1 1 ... 2 0 0]]\n"
     ]
    }
   ],
   "source": [
    "print(\"Tf matrix after preprocessing our document: \\n\")\n",
    "print(transformed_output_df.toarray())"
   ]
  },
  {
   "cell_type": "code",
   "execution_count": 16,
   "id": "80287b03-b355-47c3-b8be-4b1a6261530e",
   "metadata": {},
   "outputs": [
    {
     "name": "stdout",
     "output_type": "stream",
     "text": [
      "Tfidf matrix after preprocessing our document: \n",
      "\n",
      "[[0.         0.         0.         ... 0.         0.         0.12052996]\n",
      " [0.         0.         0.         ... 0.         0.         0.        ]\n",
      " [0.         0.         0.         ... 0.         0.         0.        ]\n",
      " ...\n",
      " [0.         0.         0.         ... 0.         0.         0.        ]\n",
      " [0.         0.         0.         ... 0.         0.         0.        ]\n",
      " [0.07759623 0.07759623 0.07759623 ... 0.12093484 0.         0.        ]]\n"
     ]
    }
   ],
   "source": [
    "print(\"Tfidf matrix after preprocessing our document: \\n\")\n",
    "print(transformed_output_idf.toarray())"
   ]
  },
  {
   "cell_type": "code",
   "execution_count": 17,
   "id": "e7b174c4-4bfc-4e26-ac8d-2c719969c79f",
   "metadata": {},
   "outputs": [],
   "source": [
    "idf = pd.DataFrame(transformed_output_idf.toarray(), columns= pt.get_feature_names_out())\n",
    "idf_sum = idf.sum(axis = 0)\n",
    "terms_p = idf_sum.sort_values(ascending=False).head(5)"
   ]
  },
  {
   "cell_type": "code",
   "execution_count": 18,
   "id": "42a92afb-4fcc-42ab-b070-c9ecb0ce5d70",
   "metadata": {},
   "outputs": [
    {
     "name": "stdout",
     "output_type": "stream",
     "text": [
      "Top 5 words without processing \n",
      " the    2.290336\n",
      "and    2.135853\n",
      "of     1.911805\n",
      "in     1.174611\n",
      "is     1.104042\n",
      "dtype: float64\n",
      "Top 5 words with preprocessing \n",
      " computer    1.241585\n",
      "house       1.163772\n",
      "tourism     1.038174\n",
      "india       1.029987\n",
      "health      0.821475\n",
      "dtype: float64\n"
     ]
    }
   ],
   "source": [
    "print(\"Top 5 words without processing \\n\",terms_wpp)\n",
    "print(\"Top 5 words with preprocessing \\n\",terms_p)"
   ]
  },
  {
   "cell_type": "code",
   "execution_count": 19,
   "id": "c416ac25-3b07-4162-9e9c-2386870ec13e",
   "metadata": {},
   "outputs": [],
   "source": [
    "query1 = [\"Health is a fundamental right. The World Health Organization (WHO) defines health as a state of complete physical, mental, and social well-being. It's a fundamental right for everyone, regardless of race, religion, political belief, economic status, or social condition.\"]"
   ]
  },
  {
   "cell_type": "code",
   "execution_count": 20,
   "id": "9fb319e6-bf4c-4fe3-8a74-c6e6a0a91294",
   "metadata": {},
   "outputs": [],
   "source": [
    "from sklearn.metrics.pairwise import cosine_similarity"
   ]
  },
  {
   "cell_type": "code",
   "execution_count": 21,
   "id": "75a42af1-53e0-4066-8d57-723573378759",
   "metadata": {},
   "outputs": [],
   "source": [
    "arr = cosine_similarity(pt.transform(query1),transformed_output_idf)"
   ]
  },
  {
   "cell_type": "code",
   "execution_count": 22,
   "id": "753b1bbb-842b-4002-b86d-d511c73c3a2e",
   "metadata": {},
   "outputs": [
    {
     "name": "stdout",
     "output_type": "stream",
     "text": [
      "[[0.         0.14758044 0.         0.51225715 0.         0.01557631\n",
      "  0.0831142  0.1648227  0.05692049 0.08557492 0.         0.\n",
      "  0.         0.         0.         0.02542188]]\n"
     ]
    }
   ],
   "source": [
    "print(arr)"
   ]
  },
  {
   "cell_type": "code",
   "execution_count": 23,
   "id": "9a1f2958-5c4d-4539-89cd-714819bcfe33",
   "metadata": {},
   "outputs": [],
   "source": [
    "import numpy as np"
   ]
  },
  {
   "cell_type": "code",
   "execution_count": 24,
   "id": "35537e02-e333-4fd3-99f9-807375971943",
   "metadata": {},
   "outputs": [
    {
     "name": "stdout",
     "output_type": "stream",
     "text": [
      "[\"Health is a fundamental right. The World Health Organization (WHO) defines health as a state of complete physical, mental, and social well-being. It's a fundamental right for everyone, regardless of race, religion, political belief, economic status, or social condition.\"]  =  Medical\n"
     ]
    }
   ],
   "source": [
    "print(query1 ,\" = \",df.Domain[np.argmax(arr)])"
   ]
  },
  {
   "cell_type": "code",
   "execution_count": 25,
   "id": "5e77cc1e-4d81-4242-bff9-4faeb1721979",
   "metadata": {},
   "outputs": [
    {
     "name": "stdout",
     "output_type": "stream",
     "text": [
      "[[0.04421035 0.         0.         0.         0.         0.22340756\n",
      "  0.         0.         0.         0.50804356 0.         0.\n",
      "  0.         0.         0.         0.05692455]]\n"
     ]
    }
   ],
   "source": [
    "query2 = [\"Himachal Pradesh is a very beautiful place for tourists to visit\"]\n",
    "arr = cosine_similarity(pt.transform(query2),transformed_output_idf)\n",
    "print(arr)"
   ]
  },
  {
   "cell_type": "code",
   "execution_count": 26,
   "id": "eaec2120-af0b-4f36-a8c6-0a73c09383f0",
   "metadata": {},
   "outputs": [
    {
     "name": "stdout",
     "output_type": "stream",
     "text": [
      "['Himachal Pradesh is a very beautiful place for tourists to visit']  =  Tourism\n"
     ]
    }
   ],
   "source": [
    "print(query2,\" = \",df.Domain[np.argmax(arr)])"
   ]
  }
 ],
 "metadata": {
  "kernelspec": {
   "display_name": "Python 3 (ipykernel)",
   "language": "python",
   "name": "python3"
  },
  "language_info": {
   "codemirror_mode": {
    "name": "ipython",
    "version": 3
   },
   "file_extension": ".py",
   "mimetype": "text/x-python",
   "name": "python",
   "nbconvert_exporter": "python",
   "pygments_lexer": "ipython3",
   "version": "3.12.6"
  }
 },
 "nbformat": 4,
 "nbformat_minor": 5
}
